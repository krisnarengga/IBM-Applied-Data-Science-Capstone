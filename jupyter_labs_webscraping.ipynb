{
  "cells": [
    {
      "cell_type": "markdown",
      "metadata": {
        "id": "Emp7wtm_VR-k"
      },
      "source": [
        "<p style=\"text-align:center\">\n",
        "    <a href=\"https://skills.network\" target=\"_blank\">\n",
        "    <img src=\"https://cf-courses-data.s3.us.cloud-object-storage.appdomain.cloud/assets/logos/SN_web_lightmode.png\" width=\"200\" alt=\"Skills Network Logo\">\n",
        "    </a>\n",
        "</p>\n"
      ]
    },
    {
      "cell_type": "markdown",
      "metadata": {
        "id": "Y6ilEcPsVR-n"
      },
      "source": [
        "# **Space X  Falcon 9 First Stage Landing Prediction**\n"
      ]
    },
    {
      "cell_type": "markdown",
      "metadata": {
        "id": "rTzjtJLqVR-o"
      },
      "source": [
        "## Web scraping Falcon 9 and Falcon Heavy Launches Records from Wikipedia\n"
      ]
    },
    {
      "cell_type": "markdown",
      "metadata": {
        "id": "5uobbvOlVR-o"
      },
      "source": [
        "Estimated time needed: **40** minutes\n"
      ]
    },
    {
      "cell_type": "markdown",
      "metadata": {
        "id": "a6FV3nI8VR-o"
      },
      "source": [
        "In this lab, you will be performing web scraping to collect Falcon 9 historical launch records from a Wikipedia page titled `List of Falcon 9 and Falcon Heavy launches`\n",
        "\n",
        "https://en.wikipedia.org/wiki/List_of_Falcon_9_and_Falcon_Heavy_launches\n"
      ]
    },
    {
      "cell_type": "markdown",
      "metadata": {
        "id": "awDOgvJUVR-p"
      },
      "source": [
        "![](https://cf-courses-data.s3.us.cloud-object-storage.appdomain.cloud/IBM-DS0321EN-SkillsNetwork/labs/module_1_L2/images/Falcon9_rocket_family.svg)\n"
      ]
    },
    {
      "cell_type": "markdown",
      "metadata": {
        "id": "EVcEwthOVR-p"
      },
      "source": [
        "Falcon 9 first stage will land successfully\n"
      ]
    },
    {
      "cell_type": "markdown",
      "metadata": {
        "id": "CmBrCdu8VR-p"
      },
      "source": [
        "![](https://cf-courses-data.s3.us.cloud-object-storage.appdomain.cloud/IBMDeveloperSkillsNetwork-DS0701EN-SkillsNetwork/api/Images/landing_1.gif)\n"
      ]
    },
    {
      "cell_type": "markdown",
      "metadata": {
        "id": "YUIxBoCWVR-p"
      },
      "source": [
        "Several examples of an unsuccessful landing are shown here:\n"
      ]
    },
    {
      "cell_type": "markdown",
      "metadata": {
        "id": "pAKjqVoTVR-q"
      },
      "source": [
        "![](https://cf-courses-data.s3.us.cloud-object-storage.appdomain.cloud/IBMDeveloperSkillsNetwork-DS0701EN-SkillsNetwork/api/Images/crash.gif)\n"
      ]
    },
    {
      "cell_type": "markdown",
      "metadata": {
        "id": "-7p3YzpHVR-q"
      },
      "source": [
        "More specifically, the launch records are stored in a HTML table shown below:\n"
      ]
    },
    {
      "cell_type": "markdown",
      "metadata": {
        "id": "8C-y-MSJVR-q"
      },
      "source": [
        "![](https://cf-courses-data.s3.us.cloud-object-storage.appdomain.cloud/IBM-DS0321EN-SkillsNetwork/labs/module_1_L2/images/falcon9-launches-wiki.png)\n"
      ]
    },
    {
      "cell_type": "markdown",
      "metadata": {
        "id": "ELgxpOiLVR-q"
      },
      "source": [
        "  ## Objectives\n",
        "Web scrap Falcon 9 launch records with `BeautifulSoup`:\n",
        "- Extract a Falcon 9 launch records HTML table from Wikipedia\n",
        "- Parse the table and convert it into a Pandas data frame\n"
      ]
    },
    {
      "cell_type": "markdown",
      "metadata": {
        "id": "Jqn_QbbkVR-r"
      },
      "source": [
        "First let's import required packages for this lab\n"
      ]
    },
    {
      "cell_type": "code",
      "execution_count": 1,
      "metadata": {
        "tags": [],
        "colab": {
          "base_uri": "https://localhost:8080/"
        },
        "id": "fbwG5z8sVR-r",
        "outputId": "54159260-43e6-4407-b8f5-6cadb1dffa19"
      },
      "outputs": [
        {
          "output_type": "stream",
          "name": "stdout",
          "text": [
            "Requirement already satisfied: beautifulsoup4 in /usr/local/lib/python3.10/dist-packages (4.11.2)\n",
            "Requirement already satisfied: soupsieve>1.2 in /usr/local/lib/python3.10/dist-packages (from beautifulsoup4) (2.5)\n",
            "Requirement already satisfied: requests in /usr/local/lib/python3.10/dist-packages (2.31.0)\n",
            "Requirement already satisfied: charset-normalizer<4,>=2 in /usr/local/lib/python3.10/dist-packages (from requests) (3.3.2)\n",
            "Requirement already satisfied: idna<4,>=2.5 in /usr/local/lib/python3.10/dist-packages (from requests) (3.4)\n",
            "Requirement already satisfied: urllib3<3,>=1.21.1 in /usr/local/lib/python3.10/dist-packages (from requests) (2.0.7)\n",
            "Requirement already satisfied: certifi>=2017.4.17 in /usr/local/lib/python3.10/dist-packages (from requests) (2023.7.22)\n"
          ]
        }
      ],
      "source": [
        "!pip3 install beautifulsoup4\n",
        "!pip3 install requests"
      ]
    },
    {
      "cell_type": "code",
      "execution_count": 2,
      "metadata": {
        "tags": [],
        "id": "uAUmEUipVR-t"
      },
      "outputs": [],
      "source": [
        "import sys\n",
        "\n",
        "import requests\n",
        "from bs4 import BeautifulSoup\n",
        "import re\n",
        "import unicodedata\n",
        "import pandas as pd"
      ]
    },
    {
      "cell_type": "markdown",
      "metadata": {
        "id": "37EbPNGQVR-t"
      },
      "source": [
        "and we will provide some helper functions for you to process web scraped HTML table\n"
      ]
    },
    {
      "cell_type": "code",
      "execution_count": 3,
      "metadata": {
        "tags": [],
        "id": "hh5TIFiYVR-t"
      },
      "outputs": [],
      "source": [
        "def date_time(table_cells):\n",
        "    \"\"\"\n",
        "    This function returns the data and time from the HTML  table cell\n",
        "    Input: the  element of a table data cell extracts extra row\n",
        "    \"\"\"\n",
        "    return [data_time.strip() for data_time in list(table_cells.strings)][0:2]\n",
        "\n",
        "def booster_version(table_cells):\n",
        "    \"\"\"\n",
        "    This function returns the booster version from the HTML  table cell\n",
        "    Input: the  element of a table data cell extracts extra row\n",
        "    \"\"\"\n",
        "    out=''.join([booster_version for i,booster_version in enumerate( table_cells.strings) if i%2==0][0:-1])\n",
        "    return out\n",
        "\n",
        "def landing_status(table_cells):\n",
        "    \"\"\"\n",
        "    This function returns the landing status from the HTML table cell\n",
        "    Input: the  element of a table data cell extracts extra row\n",
        "    \"\"\"\n",
        "    out=[i for i in table_cells.strings][0]\n",
        "    return out\n",
        "\n",
        "\n",
        "def get_mass(table_cells):\n",
        "    mass=unicodedata.normalize(\"NFKD\", table_cells.text).strip()\n",
        "    if mass:\n",
        "        mass.find(\"kg\")\n",
        "        new_mass=mass[0:mass.find(\"kg\")+2]\n",
        "    else:\n",
        "        new_mass=0\n",
        "    return new_mass\n",
        "\n",
        "\n",
        "def extract_column_from_header(row):\n",
        "    \"\"\"\n",
        "    This function returns the landing status from the HTML table cell\n",
        "    Input: the  element of a table data cell extracts extra row\n",
        "    \"\"\"\n",
        "    if (row.br):\n",
        "        row.br.extract()\n",
        "    if row.a:\n",
        "        row.a.extract()\n",
        "    if row.sup:\n",
        "        row.sup.extract()\n",
        "\n",
        "    colunm_name = ' '.join(row.contents)\n",
        "\n",
        "    # Filter the digit and empty names\n",
        "    if not(colunm_name.strip().isdigit()):\n",
        "        colunm_name = colunm_name.strip()\n",
        "        return colunm_name\n"
      ]
    },
    {
      "cell_type": "markdown",
      "metadata": {
        "id": "f3dYZ9rKVR-u"
      },
      "source": [
        "To keep the lab tasks consistent, you will be asked to scrape the data from a snapshot of the  `List of Falcon 9 and Falcon Heavy launches` Wikipage updated on\n",
        "`9th June 2021`\n"
      ]
    },
    {
      "cell_type": "code",
      "execution_count": 4,
      "metadata": {
        "tags": [],
        "id": "Eu0ZT_aXVR-u"
      },
      "outputs": [],
      "source": [
        "static_url = \"https://en.wikipedia.org/w/index.php?title=List_of_Falcon_9_and_Falcon_Heavy_launches&oldid=1027686922\""
      ]
    },
    {
      "cell_type": "markdown",
      "metadata": {
        "id": "eW0sF77XVR-u"
      },
      "source": [
        "Next, request the HTML page from the above URL and get a `response` object\n"
      ]
    },
    {
      "cell_type": "markdown",
      "metadata": {
        "id": "GSQaun_7VR-u"
      },
      "source": [
        "### TASK 1: Request the Falcon9 Launch Wiki page from its URL\n"
      ]
    },
    {
      "cell_type": "markdown",
      "metadata": {
        "id": "9shuL2YgVR-v"
      },
      "source": [
        "First, let's perform an HTTP GET method to request the Falcon9 Launch HTML page, as an HTTP response.\n"
      ]
    },
    {
      "cell_type": "code",
      "execution_count": 5,
      "metadata": {
        "tags": [],
        "id": "UtQB3AL7VR-v"
      },
      "outputs": [],
      "source": [
        "# use requests.get() method with the provided static_url\n",
        "# assign the response to a object\n",
        "response = requests.get(static_url)"
      ]
    },
    {
      "cell_type": "code",
      "execution_count": 6,
      "metadata": {
        "tags": [],
        "colab": {
          "base_uri": "https://localhost:8080/"
        },
        "id": "CgpGXNlaVR-v",
        "outputId": "d4c9686e-fd9f-4d94-8a5a-5b595f9d0056"
      },
      "outputs": [
        {
          "output_type": "execute_result",
          "data": {
            "text/plain": [
              "200"
            ]
          },
          "metadata": {},
          "execution_count": 6
        }
      ],
      "source": [
        "response.status_code"
      ]
    },
    {
      "cell_type": "markdown",
      "metadata": {
        "id": "3nMlWvgXVR-v"
      },
      "source": [
        "Create a `BeautifulSoup` object from the HTML `response`\n"
      ]
    },
    {
      "cell_type": "code",
      "execution_count": 7,
      "metadata": {
        "tags": [],
        "id": "hpQokljmVR-v"
      },
      "outputs": [],
      "source": [
        "# Use BeautifulSoup() to create a BeautifulSoup object from a response text content\n",
        "soup = BeautifulSoup(response.text, 'html.parser')"
      ]
    },
    {
      "cell_type": "markdown",
      "metadata": {
        "id": "qIlNkQMkVR-w"
      },
      "source": [
        "Print the page title to verify if the `BeautifulSoup` object was created properly\n"
      ]
    },
    {
      "cell_type": "code",
      "execution_count": 8,
      "metadata": {
        "tags": [],
        "id": "C_P9jf18VR-w"
      },
      "outputs": [],
      "source": [
        "# Use soup.title attribute\n",
        "title = soup.title"
      ]
    },
    {
      "cell_type": "code",
      "execution_count": 11,
      "metadata": {
        "tags": [],
        "colab": {
          "base_uri": "https://localhost:8080/"
        },
        "id": "HzQfUtFBVR-w",
        "outputId": "ee1c9cc1-eeb4-44b9-aa28-94db0181ee67"
      },
      "outputs": [
        {
          "output_type": "execute_result",
          "data": {
            "text/plain": [
              "<title>List of Falcon 9 and Falcon Heavy launches - Wikipedia</title>"
            ]
          },
          "metadata": {},
          "execution_count": 11
        }
      ],
      "source": [
        "title"
      ]
    },
    {
      "cell_type": "markdown",
      "metadata": {
        "id": "ZK2wMhVyVR-w"
      },
      "source": [
        "### TASK 2: Extract all column/variable names from the HTML table header\n"
      ]
    },
    {
      "cell_type": "markdown",
      "metadata": {
        "id": "KI_kTjA_VR-w"
      },
      "source": [
        "Next, we want to collect all relevant column names from the HTML table header\n"
      ]
    },
    {
      "cell_type": "markdown",
      "metadata": {
        "id": "OulByiWGVR-w"
      },
      "source": [
        "Let's try to find all tables on the wiki page first. If you need to refresh your memory about `BeautifulSoup`, please check the external reference link towards the end of this lab\n"
      ]
    },
    {
      "cell_type": "code",
      "execution_count": 9,
      "metadata": {
        "tags": [],
        "id": "p96V9LotVR-x"
      },
      "outputs": [],
      "source": [
        "# Use the find_all function in the BeautifulSoup object, with element type `table`\n",
        "# Assign the result to a list called `html_tables`\n",
        "html_tables = soup.find_all('table')"
      ]
    },
    {
      "cell_type": "markdown",
      "metadata": {
        "id": "FFk6FSp1VR-x"
      },
      "source": [
        "Starting from the third table is our target table contains the actual launch records.\n"
      ]
    },
    {
      "cell_type": "code",
      "execution_count": 10,
      "metadata": {
        "tags": [],
        "id": "JDiZ7O_JVR-x"
      },
      "outputs": [],
      "source": [
        "# Let's print the third table and check its content\n",
        "first_launch_table = html_tables[2]\n",
        "#print(first_launch_table)"
      ]
    },
    {
      "cell_type": "markdown",
      "metadata": {
        "id": "TMpbo2f7VR-x"
      },
      "source": [
        "You should able to see the columns names embedded in the table header elements `<th>` as follows:\n"
      ]
    },
    {
      "cell_type": "markdown",
      "metadata": {
        "id": "2_sDWbBkVR-x"
      },
      "source": [
        "```\n",
        "<tr>\n",
        "<th scope=\"col\">Flight No.\n",
        "</th>\n",
        "<th scope=\"col\">Date and<br/>time (<a href=\"/wiki/Coordinated_Universal_Time\" title=\"Coordinated Universal Time\">UTC</a>)\n",
        "</th>\n",
        "<th scope=\"col\"><a href=\"/wiki/List_of_Falcon_9_first-stage_boosters\" title=\"List of Falcon 9 first-stage boosters\">Version,<br/>Booster</a> <sup class=\"reference\" id=\"cite_ref-booster_11-0\"><a href=\"#cite_note-booster-11\">[b]</a></sup>\n",
        "</th>\n",
        "<th scope=\"col\">Launch site\n",
        "</th>\n",
        "<th scope=\"col\">Payload<sup class=\"reference\" id=\"cite_ref-Dragon_12-0\"><a href=\"#cite_note-Dragon-12\">[c]</a></sup>\n",
        "</th>\n",
        "<th scope=\"col\">Payload mass\n",
        "</th>\n",
        "<th scope=\"col\">Orbit\n",
        "</th>\n",
        "<th scope=\"col\">Customer\n",
        "</th>\n",
        "<th scope=\"col\">Launch<br/>outcome\n",
        "</th>\n",
        "<th scope=\"col\"><a href=\"/wiki/Falcon_9_first-stage_landing_tests\" title=\"Falcon 9 first-stage landing tests\">Booster<br/>landing</a>\n",
        "</th></tr>\n",
        "```\n"
      ]
    },
    {
      "cell_type": "markdown",
      "metadata": {
        "id": "WmJRfzSdVR-y"
      },
      "source": [
        "Next, we just need to iterate through the `<th>` elements and apply the provided `extract_column_from_header()` to extract column name one by one\n"
      ]
    },
    {
      "cell_type": "code",
      "execution_count": 12,
      "metadata": {
        "tags": [],
        "id": "H3f5Pi-7VR-2"
      },
      "outputs": [],
      "source": [
        "column_names = []\n",
        "\n",
        "# Apply find_all() function with `th` element on first_launch_table\n",
        "# Iterate each th element and apply the provided extract_column_from_header() to get a column name\n",
        "# Append the Non-empty column name (`if name is not None and len(name) > 0`) into a list called column_names\n"
      ]
    },
    {
      "cell_type": "markdown",
      "metadata": {
        "id": "sO-bh5nCVR-3"
      },
      "source": [
        "Check the extracted column names\n"
      ]
    },
    {
      "cell_type": "code",
      "execution_count": 13,
      "metadata": {
        "tags": [],
        "id": "oV3ZHJmNVR-3"
      },
      "outputs": [],
      "source": [
        "th_elements = first_launch_table.find_all('th')"
      ]
    },
    {
      "cell_type": "code",
      "execution_count": 14,
      "metadata": {
        "tags": [],
        "id": "6xpq3TWBVR-3"
      },
      "outputs": [],
      "source": [
        "for th_element in th_elements:\n",
        "    name = th_element.text.strip()\n",
        "    if name is not None and len(name) > 0:\n",
        "        column_names.append(name)"
      ]
    },
    {
      "cell_type": "code",
      "execution_count": 20,
      "metadata": {
        "tags": [],
        "colab": {
          "base_uri": "https://localhost:8080/"
        },
        "id": "c7kyExSCVR-3",
        "outputId": "82e479b1-5c53-4f87-fca2-ebb5f4d9e004"
      },
      "outputs": [
        {
          "output_type": "stream",
          "name": "stdout",
          "text": [
            "['Flight No.', 'Date andtime (UTC)', 'Version,Booster [b]', 'Launch site', 'Payload[c]', 'Payload mass', 'Orbit', 'Customer', 'Launchoutcome', 'Boosterlanding', '1', '2', '3', '4', '5', '6', '7']\n"
          ]
        }
      ],
      "source": [
        "print(column_names)"
      ]
    },
    {
      "cell_type": "markdown",
      "metadata": {
        "id": "vs8DWPiXVR-3"
      },
      "source": [
        "## TASK 3: Create a data frame by parsing the launch HTML tables\n"
      ]
    },
    {
      "cell_type": "markdown",
      "metadata": {
        "id": "HRnw82ugVR-4"
      },
      "source": [
        "We will create an empty dictionary with keys from the extracted column names in the previous task. Later, this dictionary will be converted into a Pandas dataframe\n"
      ]
    },
    {
      "cell_type": "code",
      "execution_count": 21,
      "metadata": {
        "tags": [],
        "id": "_Kyyob1NVR-4"
      },
      "outputs": [],
      "source": [
        "launch_dict= dict.fromkeys(column_names)\n",
        "\n",
        "# Remove an irrelvant column\n",
        "del launch_dict['Date andtime (UTC)']\n",
        "\n",
        "# Let's initial the launch_dict with each value to be an empty list\n",
        "launch_dict['Flight No.'] = []\n",
        "launch_dict['Launch site'] = []\n",
        "launch_dict['Payload'] = []\n",
        "launch_dict['Payload mass'] = []\n",
        "launch_dict['Orbit'] = []\n",
        "launch_dict['Customer'] = []\n",
        "launch_dict['Launch outcome'] = []\n",
        "# Added some new columns\n",
        "launch_dict['Version Booster']=[]\n",
        "launch_dict['Booster landing']=[]\n",
        "launch_dict['Date']=[]\n",
        "launch_dict['Time']=[]"
      ]
    },
    {
      "cell_type": "markdown",
      "metadata": {
        "id": "_WSsSBdFVR-4"
      },
      "source": [
        "Next, we just need to fill up the `launch_dict` with launch records extracted from table rows.\n"
      ]
    },
    {
      "cell_type": "markdown",
      "metadata": {
        "id": "KLr13RNAVR-4"
      },
      "source": [
        "Usually, HTML tables in Wiki pages are likely to contain unexpected annotations and other types of noises, such as reference links `B0004.1[8]`, missing values `N/A [e]`, inconsistent formatting, etc.\n"
      ]
    },
    {
      "cell_type": "markdown",
      "metadata": {
        "id": "gmtPsDi8VR-4"
      },
      "source": [
        "To simplify the parsing process, we have provided an incomplete code snippet below to help you to fill up the `launch_dict`. Please complete the following code snippet with TODOs or you can choose to write your own logic to parse all launch tables:\n"
      ]
    },
    {
      "cell_type": "code",
      "execution_count": 69,
      "metadata": {
        "tags": [],
        "id": "qlK9T5Y2VR-4"
      },
      "outputs": [],
      "source": [
        "extracted_row = 0\n",
        "#Extract each table\n",
        "for table_number,table in enumerate(soup.find_all('table',\"wikitable plainrowheaders collapsible\")):\n",
        "   # get table row\n",
        "    for rows in table.find_all(\"tr\"):\n",
        "        #check to see if first table heading is as number corresponding to launch a number\n",
        "        if rows.th:\n",
        "            if rows.th.string:\n",
        "                flight_number=rows.th.string.strip()\n",
        "                flag=flight_number.isdigit()\n",
        "        else:\n",
        "            flag=False\n",
        "        #get table element\n",
        "        row=rows.find_all('td')\n",
        "        #if it is number save cells in a dictonary\n",
        "        if flag:\n",
        "            extracted_row += 1\n",
        "            # Flight Number value\n",
        "            # TODO: Append the flight_number into launch_dict with key `Flight No.`\n",
        "            #print(flight_number)\n",
        "            launch_dict['Flight No.'].append(flight_number)\n",
        "            datatimelist=date_time(row[0])\n",
        "\n",
        "            # Date value\n",
        "            # TODO: Append the date into launch_dict with key `Date`\n",
        "            date = datatimelist[0].strip(',')\n",
        "            #print(date)\n",
        "\n",
        "            # Time value\n",
        "            # TODO: Append the time into launch_dict with key `Time`\n",
        "            time = datatimelist[1]\n",
        "            #print(time)\n",
        "\n",
        "            # Booster version\n",
        "            # TODO: Append the bv into launch_dict with key `Version Booster`\n",
        "            bv=booster_version(row[1])\n",
        "            if not(bv):\n",
        "                bv=row[1].a.string\n",
        "            #print(bv)\n",
        "\n",
        "            # Launch Site\n",
        "            # TODO: Append the bv into launch_dict with key `Launch Site`\n",
        "            launch_site = row[2].a.string\n",
        "            #print(launch_site)\n",
        "            launch_dict['Launch site'].append(launch_site)\n",
        "\n",
        "            # Payload\n",
        "            # TODO: Append the payload into launch_dict with key `Payload`\n",
        "            payload = row[3].a.string\n",
        "            launch_dict['Payload'].append(payload)\n",
        "            #print(payload)\n",
        "\n",
        "            # Payload Mass\n",
        "            # TODO: Append the payload_mass into launch_dict with key `Payload mass`\n",
        "            payload_mass = get_mass(row[4])\n",
        "            #print(payload_mass)\n",
        "            launch_dict['Payload mass'].append(payload_mass)\n",
        "\n",
        "            # Orbit\n",
        "            # TODO: Append the orbit into launch_dict with key `Orbit`\n",
        "            orbit = row[5].a.string\n",
        "            launch_dict['Orbit'].append(orbit)\n",
        "            #print(orbit)\n",
        "\n",
        "            # Customer\n",
        "            # TODO: Append the customer into launch_dict with key `Customer`\n",
        "\n",
        "            try:\n",
        "              customer = row[6].a.get('title')\n",
        "              launch_dict['Customer'].append(customer)\n",
        "            except Exception as e:\n",
        "                # Code to handle other types of exceptions\n",
        "                customer = 'N/A'\n",
        "                launch_dict['Customer'].append(customer)\n",
        "                #print(f\"An unexpected error occurred: {e}\")\n",
        "            #print(customer)\n",
        "\n",
        "            # Launch outcome\n",
        "            # TODO: Append the launch_outcome into launch_dict with key `Launch outcome`\n",
        "            launch_outcome = list(row[7].strings)[0]\n",
        "            #print(launch_outcome)\n",
        "            launch_dict['Launch outcome'].append(launch_outcome)\n",
        "\n",
        "            # Booster landing\n",
        "            # TODO: Append the launch_outcome into launch_dict with key `Booster landing`\n",
        "            booster_landing = landing_status(row[8])\n",
        "            if not(booster_landing):\n",
        "              booster_landing=row[8].td.string\n",
        "            #print(booster_landing)\n",
        "            launch_dict['Booster landing'].append(booster_landing)\n",
        "\n",
        ""
      ]
    },
    {
      "cell_type": "markdown",
      "metadata": {
        "id": "3ACFDCjwVR-5"
      },
      "source": [
        "After you have fill in the parsed launch record values into `launch_dict`, you can create a dataframe from it.\n"
      ]
    },
    {
      "cell_type": "code",
      "source": [
        "launch_dict.items()"
      ],
      "metadata": {
        "colab": {
          "base_uri": "https://localhost:8080/"
        },
        "id": "ZZJ1N_jNluVU",
        "outputId": "527a08ad-5120-4cb2-99d2-6cd8e50c2b1c"
      },
      "execution_count": 70,
      "outputs": [
        {
          "output_type": "execute_result",
          "data": {
            "text/plain": [
              "dict_items([('Flight No.', ['1', '2', '3', '4', '5', '6', '7', '8', '9', '10', '11', '12', '13', '14', '15', '16', '17', '18', '19', '20', '21', '22', '23', '24', '25', '26', '27', '28', '29', '30', '31', '32', '33', '34', '35', '36', '37', '38', '39', '40', '41', '42', '43', '44', '45', '46', '47', '48', '49', '50', '51', '52', '53', '54', '55', '56', '57', '58', '59', '60', '61', '62', '63', '64', '65', '66', '67', '68', '69', '70', '71', '72', '73', '74', '75', '76', '77', '78', '79', '80', '81', '82', '83', '84', '85', '86', '87', '88', '89', '90', '91', '92', '93', '94', '95', '96', '97', '98', '99', '100', '101', '102', '103', '104', '105', '106', '107', '108', '109', '110', '111', '112', '113', '114', '115', '116', '117', '118', '119', '120', '121']), ('Version,Booster [b]', None), ('Launch site', ['CCAFS', 'CCAFS', 'CCAFS', 'CCAFS', 'CCAFS', 'VAFB', 'CCAFS', 'CCAFS', 'Cape Canaveral', 'Cape Canaveral', 'Cape Canaveral', 'Cape Canaveral', 'Cape Canaveral', 'Cape Canaveral', 'Cape Canaveral', 'Cape Canaveral', 'Cape Canaveral', 'Cape Canaveral', 'Cape Canaveral', 'Cape Canaveral', 'VAFB', 'Cape Canaveral', 'Cape Canaveral', 'Cape Canaveral', 'Cape Canaveral', 'Cape Canaveral', 'Cape Canaveral', 'Cape Canaveral', 'VAFB', 'KSC', 'KSC', 'KSC', 'KSC', 'KSC', 'KSC', 'KSC', 'VAFB', 'KSC', 'KSC', 'VAFB', 'KSC', 'VAFB', 'KSC', 'KSC', 'Cape Canaveral', 'VAFB', 'CCAFS', 'CCAFS', 'VAFB', 'CCAFS', 'VAFB', 'CCAFS', 'CCAFS', 'KSC', 'VAFB', 'CCAFS', 'CCAFS', 'CCAFS', 'VAFB', 'CCAFS', 'CCAFS', 'VAFB', 'KSC', 'VAFB', 'CCAFS', 'CCAFS', 'VAFB', 'CCAFS', 'KSC', 'CCAFS', 'CCAFS', 'VAFB', 'CCAFS', 'CCAFS', 'CCAFS', 'CCAFS', 'CCAFS', 'CCAFS', 'KSC', 'CCAFS', 'CCAFS', 'CCAFS', 'KSC', 'KSC', 'KSC', 'CCAFS', 'CCAFS', 'CCAFS', 'CCAFS', 'KSC', 'CCAFS', 'CCAFS', 'KSC', 'KSC', 'KSC', 'CCAFS', 'CCAFS', 'KSC', 'VAFB', 'CCAFS', 'KSC', 'CCSFS', 'KSC', 'CCSFS', 'KSC', 'CCSFS', 'CCSFS', 'CCSFS', 'KSC', 'CCSFS', 'KSC', 'CCSFS', 'CCSFS', 'KSC', 'CCSFS', 'KSC', 'CCSFS', 'KSC', 'CCSFS', 'KSC', 'CCSFS']), ('Payload[c]', None), ('Payload mass', [0, 0, '525 kg', '4,700 kg', '4,877 kg', '500 kg', '3,170 kg', '3,325 kg', '2,296 kg', '1,316 kg', '4,535 kg', '4,428 kg', '2,216 kg', '2,395 kg', '570 kg', '4,159 kg', '1,898 kg', '4,707 kg', '1,952 kg', '2,034 kg', '553 kg', '5,271 kg', '3,136 kg', '4,696 kg', '3,100 kg', '3,600 kg', '2,257 kg', '4,600 kg', '9,600 kg', '2,490 kg', '5,600 kg', '5,300 kg', 'C', '6,070 kg', '2,708 kg', '3,669 kg', '9,600 kg', '6,761 kg', '3,310 kg', '475 kg', '4,990 kg', '9,600 kg', '5,200 kg', '3,500 kg', '2,205 kg', '9,600 kg', 'C', '4,230 kg', '2,150 kg', '6,092 kg', '9,600 kg', '2,647 kg', '362 kg', '3,600 kg', '6,460 kg', '5,384 kg', '2,697 kg', '7,075 kg', '9,600 kg', '5,800 kg', '7,060 kg', '3,000 kg', '5,300 kg', '~4,000 kg', '2,500 kg', '4,400 kg', '9,600 kg', '4,850 kg', '12,055 kg', '2,495 kg', '13,620 kg', '4,200 kg', '2,268 kg', '6,500 kg', '15,600 kg', '2,617 kg', '6,956 kg', '15,600 kg', '12,050 kg', '15,600 kg', '15,600 kg', '1,977 kg', '15,600 kg', '15,600 kg', '12,530 kg', '15,600 kg', '15,410 kg', '4,311 kg', '5,000–6,000 kg', '14,932 kg', '~15,440 kg', '3,130 kg', '15,600 kg', '15,600 kg', '15,600 kg', '15,600 kg', '4,311 kg', '~12,500 kg', '1,192 kg', '15,600 kg', '2,972 kg', '7,000 kg', 'C', '3,500 kg', '15,600 kg', '~5,000 kg', '15,600 kg', '15,600 kg', '15,600 kg', '15,600 kg', '15,600 kg', '15,600 kg', '15,600 kg', '~13,000 kg', '15,600 kg', '15,600 kg', '15,600 kg', '~14,000 kg', '15,600 kg', '3,328 kg', '7,000 kg']), ('Orbit', ['LEO', 'LEO', 'LEO', 'LEO', 'LEO', 'Polar orbit', 'GTO', 'GTO', 'LEO', 'LEO', 'GTO', 'GTO', 'LEO', 'LEO', 'HEO', 'GTO', 'LEO', 'GTO', 'LEO', 'LEO', 'LEO', 'GTO', 'LEO', 'GTO', 'GTO', 'GTO', 'LEO', 'GTO', 'Polar', 'LEO', 'GTO', 'GTO', 'LEO', 'GTO', 'LEO', 'GTO', 'LEO', 'GTO', 'LEO', 'SSO', 'LEO', 'Polar', 'GTO', 'GTO', 'LEO', 'Polar', 'LEO', 'GTO', 'SSO', 'GTO', 'Polar', 'LEO', 'HEO', 'GTO', 'Polar', 'GTO', 'LEO', 'GTO', 'Polar', 'GTO', 'GTO', 'SSO', 'GTO', 'SSO', 'LEO', 'MEO', 'Polar', 'GTO', 'LEO', 'LEO', 'LEO', 'SSO', 'LEO', 'GTO', 'LEO', 'LEO', 'GTO', 'LEO', 'Sub-orbital', 'LEO', 'LEO', 'LEO', 'LEO', 'LEO', 'LEO', 'LEO', 'LEO', 'MEO', 'GTO', 'LEO', 'LEO', 'SSO', 'LEO', 'LEO', 'LEO', 'LEO', 'MEO', 'LEO', 'LEO', 'LEO', 'LEO', 'GTO', 'LEO', 'GTO', 'LEO', 'SSO', 'LEO', 'LEO', 'LEO', 'LEO', 'LEO', 'LEO', 'LEO', 'LEO', 'LEO', 'LEO', 'LEO', 'LEO', 'LEO', 'LEO', 'GTO']), ('Customer', ['SpaceX', 'NASA', 'NASA', 'NASA', 'NASA', 'Maxar Technologies', 'SES S.A.', 'Thaicom', 'NASA', 'Orbcomm', 'AsiaSat', 'AsiaSat', 'NASA', 'NASA', 'United States Air Force', 'Asia Broadcast Satellite', 'NASA', 'Turkmenistan National Space Agency', 'NASA', 'Orbcomm', 'NASA', 'SES S.A.', 'NASA', 'SKY Perfect JSAT', 'Thaicom', 'Asia Broadcast Satellite', 'NASA', 'SKY Perfect JSAT Group', 'Iridium Communications', 'NASA', 'EchoStar', 'SES S.A.', 'National Reconnaissance Office', 'Inmarsat', 'NASA', 'Bulsatcom', 'Iridium Communications', 'Intelsat', 'NASA', 'National Space Organization', 'United States Air Force', 'Iridium Communications', 'SES S.A.', 'KT Corporation', 'NASA', 'Iridium Communications', 'Northrop Grumman', 'SES S.A.', 'Hisdesat', 'Hispasat', 'Iridium Communications', 'NASA', 'NASA', 'Thales Alenia Space', 'Iridium Communications', 'SES S.A.', 'NASA', 'Telesat', 'Iridium Communications', 'Telkom Indonesia', 'Telesat', 'Comisión Nacional de Actividades Espaciales', \"Es'hailSat\", 'Spaceflight Industries', 'NASA', 'United States Air Force', 'Iridium Communications', 'PT Pasifik Satelit Nusantara', 'NASA', 'NASA', 'SpaceX', 'Canadian Space Agency', 'NASA', 'Spacecom', 'Spacecom', 'NASA', 'SKY Perfect JSAT Group', 'SpaceX', 'NASA', 'SpaceX', 'SpaceX', 'NASA', 'SpaceX', 'SpaceX', 'NASA', 'SpaceX', 'SpaceX', 'United States Space Force', 'Republic of Korea Army', 'SpaceX', 'SpaceX', 'CONAE', 'SpaceX', 'SpaceX', 'SpaceX', 'SpaceX', 'United States Space Force', 'NASA', 'NASA', 'SpaceX', 'NASA', 'Sirius XM', 'National Reconnaissance Office', 'Türksat (company)', 'SpaceX', 'N/A', 'SpaceX', 'SpaceX', 'SpaceX', 'SpaceX', 'SpaceX', 'SpaceX', 'SpaceX', 'NASA', 'SpaceX', 'SpaceX', 'SpaceX', 'SpaceX', 'SpaceX', 'NASA', 'Sirius XM']), ('Launchoutcome', None), ('Boosterlanding', None), ('1', None), ('2', None), ('3', None), ('4', None), ('5', None), ('6', None), ('7', None), ('Payload', ['Dragon Spacecraft Qualification Unit', 'Dragon', 'Dragon', 'SpaceX CRS-1', 'SpaceX CRS-2', 'CASSIOPE', 'SES-8', 'Thaicom 6', 'SpaceX CRS-3', 'Orbcomm-OG2', 'AsiaSat 8', 'AsiaSat 6', 'SpaceX CRS-4', 'SpaceX CRS-5', 'DSCOVR', 'ABS-3A', 'SpaceX CRS-6', 'TürkmenÄlem 52°E / MonacoSAT', 'SpaceX CRS-7', 'Orbcomm-OG2', 'Jason-3', 'SES-9', 'SpaceX CRS-8', 'JCSAT-14', 'Thaicom 8', 'ABS-2A', 'SpaceX CRS-9', 'JCSAT-16', 'Iridium NEXT', 'SpaceX CRS-10', 'EchoStar 23', 'SES-10', 'NROL-76', 'Inmarsat-5 F4', 'SpaceX CRS-11', 'BulgariaSat-1', 'Iridium NEXT', 'Intelsat 35e', 'SpaceX CRS-12', 'Formosat-5', 'Boeing X-37B', 'Iridium NEXT', 'SES-11', 'Koreasat 5A', 'SpaceX CRS-13', 'Iridium NEXT', 'Zuma', 'GovSat-1', 'Paz', 'Hispasat 30W-6', 'Iridium NEXT', 'SpaceX CRS-14', 'Transiting Exoplanet Survey Satellite', 'Bangabandhu-1', 'Iridium NEXT', 'SES-12', 'SpaceX CRS-15', 'Telstar 19V', 'Iridium NEXT', 'Merah Putih', 'Telstar 18V', 'SAOCOM 1A', \"Es'hail 2\", 'SSO-A', 'SpaceX CRS-16', 'GPS III', 'Iridium NEXT', 'Nusantara Satu', 'Crew Dragon Demo-1', 'SpaceX CRS-17', 'Starlink', 'RADARSAT Constellation', 'SpaceX CRS-18', 'AMOS-17', 'Starlink', 'SpaceX CRS-19', 'JCSat-18', 'Starlink', 'Crew Dragon in-flight abort test', 'Starlink', 'Starlink', 'SpaceX CRS-20', 'Starlink', 'Starlink', 'Crew Dragon Demo-2', 'Starlink', 'Starlink', 'GPS III', 'ANASIS-II', 'Starlink', 'Starlink', 'SAOCOM 1B', 'Starlink', 'Starlink', 'Starlink', 'Starlink', 'GPS III', 'Crew-1', 'Sentinel-6 Michael Freilich (Jason-CS A)', 'Starlink', 'SpaceX CRS-21', 'SXM-7', 'NROL-108', 'Türksat 5A', 'Starlink', 'Transporter-1', 'Starlink', 'Starlink', 'Starlink', 'Starlink', 'Starlink', 'Starlink', 'Starlink', 'Crew-2', 'Starlink', 'Starlink', 'Starlink', 'Starlink', 'Starlink', 'SpaceX CRS-22', 'SXM-8']), ('Launch outcome', ['Success\\n', 'Success', 'Success', 'Success\\n', 'Success\\n', 'Success', 'Success', 'Success', 'Success\\n', 'Success', 'Success', 'Success', 'Success', 'Success', 'Success\\n', 'Success\\n', 'Success\\n', 'Success\\n', 'Failure', 'Success\\n', 'Success\\n', 'Success\\n', 'Success', 'Success\\n', 'Success\\n', 'Success\\n', 'Success\\n', 'Success\\n', 'Success\\n', 'Success\\n', 'Success\\n', 'Success', 'Success\\n', 'Success\\n', 'Success\\n', 'Success\\n', 'Success\\n', 'Success\\n', 'Success\\n', 'Success\\n', 'Success\\n', 'Success\\n', 'Success\\n', 'Success\\n', 'Success\\n', 'Success', 'Success', 'Success', 'Success', 'Success', 'Success', 'Success', 'Success', 'Success', 'Success', 'Success', 'Success', 'Success', 'Success', 'Success', 'Success', 'Success', 'Success', 'Success', 'Success\\n', 'Success', 'Success\\n', 'Success\\n', 'Success\\n', 'Success\\n', 'Success\\n', 'Success\\n', 'Success\\n', 'Success\\n', 'Success\\n', 'Success\\n', 'Success\\n', 'Success\\n', 'Success\\n', 'Success\\n', 'Success\\n', 'Success\\n', 'Success\\n', 'Success\\n', 'Success\\n', 'Success\\n', 'Success\\n', 'Success\\n', 'Success\\n', 'Success\\n', 'Success\\n', 'Success\\n', 'Success\\n', 'Success\\n', 'Success\\n', 'Success\\n', 'Success\\n', 'Success\\n', 'Success\\n', 'Success\\n', 'Success\\n', 'Success\\n', 'Success\\n', 'Success\\n', 'Success\\n', 'Success\\n', 'Success\\n', 'Success\\n', 'Success\\n', 'Success\\n', 'Success\\n', 'Success\\n', 'Success\\n', 'Success\\n', 'Success\\n', 'Success\\n', 'Success\\n', 'Success\\n', 'Success\\n', 'Success\\n', 'Success\\n']), ('Version Booster', []), ('Booster landing', ['Failure', 'Failure', 'Not attempted\\n', 'No attempt', 'Not attempted\\n', 'Uncontrolled', 'Not attempted', 'Not attempted', 'Controlled', 'Controlled', 'Not attempted', 'Not attempted\\n', 'Uncontrolled', 'Failure ', 'Controlled', 'Not attempted', 'Failure', 'Not attempted', 'Precluded', 'Success', 'Failure', 'Failure', 'Success', 'Success', 'Success', 'Failure', 'Success', 'Success', 'Success', 'Success', 'Not attempted', 'Success', 'Success', 'Not attempted', 'Success', 'Success', 'Success', 'Not attempted', 'Success', 'Success', 'Success', 'Success', 'Success', 'Success', 'Success', 'Controlled', 'Success', 'Controlled', 'Not attempted', 'No attempt', 'No attempt', 'Not attempted', 'Success', 'Success', 'Not attempted', 'Not attempted', 'Not attempted', 'Success', 'Success', 'Success', 'Success', 'Success', 'Success', 'Success', 'Failure', 'Not attempted', 'Success', 'Success', 'Success', 'Success', 'Success', 'Success', 'Success', 'Not attempted', 'Success', 'Success', 'Success', 'Success', 'Not attempted\\n', 'Success', 'Failure', 'Success', 'Failure', 'Success', 'Success', 'Success', 'Success', 'Success', 'Success', 'Success', 'Success', 'Success', 'Success', 'Success', 'Success', 'Success', 'Success', 'Success', 'Success', 'Success', 'Success', 'Success', 'Success', 'Success', 'Success', 'Success', 'Success', 'Failure', 'Success', 'Success', 'Success', 'Success', 'Success', 'Success', 'Success', 'Success', 'Success', 'Success', 'Success', 'Success', 'Success']), ('Date', []), ('Time', [])])"
            ]
          },
          "metadata": {},
          "execution_count": 70
        }
      ]
    },
    {
      "cell_type": "code",
      "execution_count": 71,
      "metadata": {
        "tags": [],
        "colab": {
          "base_uri": "https://localhost:8080/"
        },
        "id": "-5Sy4lC_VR-5",
        "outputId": "0ab46421-eed4-4017-9549-ac238bcad7d0"
      },
      "outputs": [
        {
          "output_type": "stream",
          "name": "stderr",
          "text": [
            "<ipython-input-71-9f6f5fde1ae2>:1: FutureWarning: The default dtype for empty Series will be 'object' instead of 'float64' in a future version. Specify a dtype explicitly to silence this warning.\n",
            "  df= pd.DataFrame({ key:pd.Series(value) for key, value in launch_dict.items() })\n",
            "<ipython-input-71-9f6f5fde1ae2>:1: FutureWarning: The default dtype for empty Series will be 'object' instead of 'float64' in a future version. Specify a dtype explicitly to silence this warning.\n",
            "  df= pd.DataFrame({ key:pd.Series(value) for key, value in launch_dict.items() })\n",
            "<ipython-input-71-9f6f5fde1ae2>:1: FutureWarning: The default dtype for empty Series will be 'object' instead of 'float64' in a future version. Specify a dtype explicitly to silence this warning.\n",
            "  df= pd.DataFrame({ key:pd.Series(value) for key, value in launch_dict.items() })\n",
            "<ipython-input-71-9f6f5fde1ae2>:1: FutureWarning: The default dtype for empty Series will be 'object' instead of 'float64' in a future version. Specify a dtype explicitly to silence this warning.\n",
            "  df= pd.DataFrame({ key:pd.Series(value) for key, value in launch_dict.items() })\n",
            "<ipython-input-71-9f6f5fde1ae2>:1: FutureWarning: The default dtype for empty Series will be 'object' instead of 'float64' in a future version. Specify a dtype explicitly to silence this warning.\n",
            "  df= pd.DataFrame({ key:pd.Series(value) for key, value in launch_dict.items() })\n",
            "<ipython-input-71-9f6f5fde1ae2>:1: FutureWarning: The default dtype for empty Series will be 'object' instead of 'float64' in a future version. Specify a dtype explicitly to silence this warning.\n",
            "  df= pd.DataFrame({ key:pd.Series(value) for key, value in launch_dict.items() })\n",
            "<ipython-input-71-9f6f5fde1ae2>:1: FutureWarning: The default dtype for empty Series will be 'object' instead of 'float64' in a future version. Specify a dtype explicitly to silence this warning.\n",
            "  df= pd.DataFrame({ key:pd.Series(value) for key, value in launch_dict.items() })\n",
            "<ipython-input-71-9f6f5fde1ae2>:1: FutureWarning: The default dtype for empty Series will be 'object' instead of 'float64' in a future version. Specify a dtype explicitly to silence this warning.\n",
            "  df= pd.DataFrame({ key:pd.Series(value) for key, value in launch_dict.items() })\n",
            "<ipython-input-71-9f6f5fde1ae2>:1: FutureWarning: The default dtype for empty Series will be 'object' instead of 'float64' in a future version. Specify a dtype explicitly to silence this warning.\n",
            "  df= pd.DataFrame({ key:pd.Series(value) for key, value in launch_dict.items() })\n",
            "<ipython-input-71-9f6f5fde1ae2>:1: FutureWarning: The default dtype for empty Series will be 'object' instead of 'float64' in a future version. Specify a dtype explicitly to silence this warning.\n",
            "  df= pd.DataFrame({ key:pd.Series(value) for key, value in launch_dict.items() })\n",
            "<ipython-input-71-9f6f5fde1ae2>:1: FutureWarning: The default dtype for empty Series will be 'object' instead of 'float64' in a future version. Specify a dtype explicitly to silence this warning.\n",
            "  df= pd.DataFrame({ key:pd.Series(value) for key, value in launch_dict.items() })\n",
            "<ipython-input-71-9f6f5fde1ae2>:1: FutureWarning: The default dtype for empty Series will be 'object' instead of 'float64' in a future version. Specify a dtype explicitly to silence this warning.\n",
            "  df= pd.DataFrame({ key:pd.Series(value) for key, value in launch_dict.items() })\n"
          ]
        }
      ],
      "source": [
        "df= pd.DataFrame({ key:pd.Series(value) for key, value in launch_dict.items() })"
      ]
    },
    {
      "cell_type": "code",
      "source": [
        "df"
      ],
      "metadata": {
        "colab": {
          "base_uri": "https://localhost:8080/",
          "height": 634
        },
        "id": "2ke2qtUelgEH",
        "outputId": "d4e57a9c-6a04-4d48-bc01-01e8b81ae71c"
      },
      "execution_count": 72,
      "outputs": [
        {
          "output_type": "execute_result",
          "data": {
            "text/plain": [
              "    Flight No.  Version,Booster [b] Launch site  Payload[c] Payload mass  \\\n",
              "0            1                  NaN       CCAFS         NaN            0   \n",
              "1            2                  NaN       CCAFS         NaN            0   \n",
              "2            3                  NaN       CCAFS         NaN       525 kg   \n",
              "3            4                  NaN       CCAFS         NaN     4,700 kg   \n",
              "4            5                  NaN       CCAFS         NaN     4,877 kg   \n",
              "..         ...                  ...         ...         ...          ...   \n",
              "116        117                  NaN       CCSFS         NaN    15,600 kg   \n",
              "117        118                  NaN         KSC         NaN   ~14,000 kg   \n",
              "118        119                  NaN       CCSFS         NaN    15,600 kg   \n",
              "119        120                  NaN         KSC         NaN     3,328 kg   \n",
              "120        121                  NaN       CCSFS         NaN     7,000 kg   \n",
              "\n",
              "    Orbit   Customer  Launchoutcome  Boosterlanding   1  ...   4   5   6   7  \\\n",
              "0     LEO     SpaceX            NaN             NaN NaN  ... NaN NaN NaN NaN   \n",
              "1     LEO       NASA            NaN             NaN NaN  ... NaN NaN NaN NaN   \n",
              "2     LEO       NASA            NaN             NaN NaN  ... NaN NaN NaN NaN   \n",
              "3     LEO       NASA            NaN             NaN NaN  ... NaN NaN NaN NaN   \n",
              "4     LEO       NASA            NaN             NaN NaN  ... NaN NaN NaN NaN   \n",
              "..    ...        ...            ...             ...  ..  ...  ..  ..  ..  ..   \n",
              "116   LEO     SpaceX            NaN             NaN NaN  ... NaN NaN NaN NaN   \n",
              "117   LEO     SpaceX            NaN             NaN NaN  ... NaN NaN NaN NaN   \n",
              "118   LEO     SpaceX            NaN             NaN NaN  ... NaN NaN NaN NaN   \n",
              "119   LEO       NASA            NaN             NaN NaN  ... NaN NaN NaN NaN   \n",
              "120   GTO  Sirius XM            NaN             NaN NaN  ... NaN NaN NaN NaN   \n",
              "\n",
              "                                  Payload  Launch outcome Version Booster  \\\n",
              "0    Dragon Spacecraft Qualification Unit       Success\\n             NaN   \n",
              "1                                  Dragon         Success             NaN   \n",
              "2                                  Dragon         Success             NaN   \n",
              "3                            SpaceX CRS-1       Success\\n             NaN   \n",
              "4                            SpaceX CRS-2       Success\\n             NaN   \n",
              "..                                    ...             ...             ...   \n",
              "116                              Starlink       Success\\n             NaN   \n",
              "117                              Starlink       Success\\n             NaN   \n",
              "118                              Starlink       Success\\n             NaN   \n",
              "119                         SpaceX CRS-22       Success\\n             NaN   \n",
              "120                                 SXM-8       Success\\n             NaN   \n",
              "\n",
              "     Booster landing  Date Time  \n",
              "0            Failure   NaN  NaN  \n",
              "1            Failure   NaN  NaN  \n",
              "2    Not attempted\\n   NaN  NaN  \n",
              "3         No attempt   NaN  NaN  \n",
              "4    Not attempted\\n   NaN  NaN  \n",
              "..               ...   ...  ...  \n",
              "116          Success   NaN  NaN  \n",
              "117          Success   NaN  NaN  \n",
              "118          Success   NaN  NaN  \n",
              "119          Success   NaN  NaN  \n",
              "120          Success   NaN  NaN  \n",
              "\n",
              "[121 rows x 22 columns]"
            ],
            "text/html": [
              "\n",
              "  <div id=\"df-c4f5c302-675f-4dc8-9841-cfc23e7a4dd1\" class=\"colab-df-container\">\n",
              "    <div>\n",
              "<style scoped>\n",
              "    .dataframe tbody tr th:only-of-type {\n",
              "        vertical-align: middle;\n",
              "    }\n",
              "\n",
              "    .dataframe tbody tr th {\n",
              "        vertical-align: top;\n",
              "    }\n",
              "\n",
              "    .dataframe thead th {\n",
              "        text-align: right;\n",
              "    }\n",
              "</style>\n",
              "<table border=\"1\" class=\"dataframe\">\n",
              "  <thead>\n",
              "    <tr style=\"text-align: right;\">\n",
              "      <th></th>\n",
              "      <th>Flight No.</th>\n",
              "      <th>Version,Booster [b]</th>\n",
              "      <th>Launch site</th>\n",
              "      <th>Payload[c]</th>\n",
              "      <th>Payload mass</th>\n",
              "      <th>Orbit</th>\n",
              "      <th>Customer</th>\n",
              "      <th>Launchoutcome</th>\n",
              "      <th>Boosterlanding</th>\n",
              "      <th>1</th>\n",
              "      <th>...</th>\n",
              "      <th>4</th>\n",
              "      <th>5</th>\n",
              "      <th>6</th>\n",
              "      <th>7</th>\n",
              "      <th>Payload</th>\n",
              "      <th>Launch outcome</th>\n",
              "      <th>Version Booster</th>\n",
              "      <th>Booster landing</th>\n",
              "      <th>Date</th>\n",
              "      <th>Time</th>\n",
              "    </tr>\n",
              "  </thead>\n",
              "  <tbody>\n",
              "    <tr>\n",
              "      <th>0</th>\n",
              "      <td>1</td>\n",
              "      <td>NaN</td>\n",
              "      <td>CCAFS</td>\n",
              "      <td>NaN</td>\n",
              "      <td>0</td>\n",
              "      <td>LEO</td>\n",
              "      <td>SpaceX</td>\n",
              "      <td>NaN</td>\n",
              "      <td>NaN</td>\n",
              "      <td>NaN</td>\n",
              "      <td>...</td>\n",
              "      <td>NaN</td>\n",
              "      <td>NaN</td>\n",
              "      <td>NaN</td>\n",
              "      <td>NaN</td>\n",
              "      <td>Dragon Spacecraft Qualification Unit</td>\n",
              "      <td>Success\\n</td>\n",
              "      <td>NaN</td>\n",
              "      <td>Failure</td>\n",
              "      <td>NaN</td>\n",
              "      <td>NaN</td>\n",
              "    </tr>\n",
              "    <tr>\n",
              "      <th>1</th>\n",
              "      <td>2</td>\n",
              "      <td>NaN</td>\n",
              "      <td>CCAFS</td>\n",
              "      <td>NaN</td>\n",
              "      <td>0</td>\n",
              "      <td>LEO</td>\n",
              "      <td>NASA</td>\n",
              "      <td>NaN</td>\n",
              "      <td>NaN</td>\n",
              "      <td>NaN</td>\n",
              "      <td>...</td>\n",
              "      <td>NaN</td>\n",
              "      <td>NaN</td>\n",
              "      <td>NaN</td>\n",
              "      <td>NaN</td>\n",
              "      <td>Dragon</td>\n",
              "      <td>Success</td>\n",
              "      <td>NaN</td>\n",
              "      <td>Failure</td>\n",
              "      <td>NaN</td>\n",
              "      <td>NaN</td>\n",
              "    </tr>\n",
              "    <tr>\n",
              "      <th>2</th>\n",
              "      <td>3</td>\n",
              "      <td>NaN</td>\n",
              "      <td>CCAFS</td>\n",
              "      <td>NaN</td>\n",
              "      <td>525 kg</td>\n",
              "      <td>LEO</td>\n",
              "      <td>NASA</td>\n",
              "      <td>NaN</td>\n",
              "      <td>NaN</td>\n",
              "      <td>NaN</td>\n",
              "      <td>...</td>\n",
              "      <td>NaN</td>\n",
              "      <td>NaN</td>\n",
              "      <td>NaN</td>\n",
              "      <td>NaN</td>\n",
              "      <td>Dragon</td>\n",
              "      <td>Success</td>\n",
              "      <td>NaN</td>\n",
              "      <td>Not attempted\\n</td>\n",
              "      <td>NaN</td>\n",
              "      <td>NaN</td>\n",
              "    </tr>\n",
              "    <tr>\n",
              "      <th>3</th>\n",
              "      <td>4</td>\n",
              "      <td>NaN</td>\n",
              "      <td>CCAFS</td>\n",
              "      <td>NaN</td>\n",
              "      <td>4,700 kg</td>\n",
              "      <td>LEO</td>\n",
              "      <td>NASA</td>\n",
              "      <td>NaN</td>\n",
              "      <td>NaN</td>\n",
              "      <td>NaN</td>\n",
              "      <td>...</td>\n",
              "      <td>NaN</td>\n",
              "      <td>NaN</td>\n",
              "      <td>NaN</td>\n",
              "      <td>NaN</td>\n",
              "      <td>SpaceX CRS-1</td>\n",
              "      <td>Success\\n</td>\n",
              "      <td>NaN</td>\n",
              "      <td>No attempt</td>\n",
              "      <td>NaN</td>\n",
              "      <td>NaN</td>\n",
              "    </tr>\n",
              "    <tr>\n",
              "      <th>4</th>\n",
              "      <td>5</td>\n",
              "      <td>NaN</td>\n",
              "      <td>CCAFS</td>\n",
              "      <td>NaN</td>\n",
              "      <td>4,877 kg</td>\n",
              "      <td>LEO</td>\n",
              "      <td>NASA</td>\n",
              "      <td>NaN</td>\n",
              "      <td>NaN</td>\n",
              "      <td>NaN</td>\n",
              "      <td>...</td>\n",
              "      <td>NaN</td>\n",
              "      <td>NaN</td>\n",
              "      <td>NaN</td>\n",
              "      <td>NaN</td>\n",
              "      <td>SpaceX CRS-2</td>\n",
              "      <td>Success\\n</td>\n",
              "      <td>NaN</td>\n",
              "      <td>Not attempted\\n</td>\n",
              "      <td>NaN</td>\n",
              "      <td>NaN</td>\n",
              "    </tr>\n",
              "    <tr>\n",
              "      <th>...</th>\n",
              "      <td>...</td>\n",
              "      <td>...</td>\n",
              "      <td>...</td>\n",
              "      <td>...</td>\n",
              "      <td>...</td>\n",
              "      <td>...</td>\n",
              "      <td>...</td>\n",
              "      <td>...</td>\n",
              "      <td>...</td>\n",
              "      <td>...</td>\n",
              "      <td>...</td>\n",
              "      <td>...</td>\n",
              "      <td>...</td>\n",
              "      <td>...</td>\n",
              "      <td>...</td>\n",
              "      <td>...</td>\n",
              "      <td>...</td>\n",
              "      <td>...</td>\n",
              "      <td>...</td>\n",
              "      <td>...</td>\n",
              "      <td>...</td>\n",
              "    </tr>\n",
              "    <tr>\n",
              "      <th>116</th>\n",
              "      <td>117</td>\n",
              "      <td>NaN</td>\n",
              "      <td>CCSFS</td>\n",
              "      <td>NaN</td>\n",
              "      <td>15,600 kg</td>\n",
              "      <td>LEO</td>\n",
              "      <td>SpaceX</td>\n",
              "      <td>NaN</td>\n",
              "      <td>NaN</td>\n",
              "      <td>NaN</td>\n",
              "      <td>...</td>\n",
              "      <td>NaN</td>\n",
              "      <td>NaN</td>\n",
              "      <td>NaN</td>\n",
              "      <td>NaN</td>\n",
              "      <td>Starlink</td>\n",
              "      <td>Success\\n</td>\n",
              "      <td>NaN</td>\n",
              "      <td>Success</td>\n",
              "      <td>NaN</td>\n",
              "      <td>NaN</td>\n",
              "    </tr>\n",
              "    <tr>\n",
              "      <th>117</th>\n",
              "      <td>118</td>\n",
              "      <td>NaN</td>\n",
              "      <td>KSC</td>\n",
              "      <td>NaN</td>\n",
              "      <td>~14,000 kg</td>\n",
              "      <td>LEO</td>\n",
              "      <td>SpaceX</td>\n",
              "      <td>NaN</td>\n",
              "      <td>NaN</td>\n",
              "      <td>NaN</td>\n",
              "      <td>...</td>\n",
              "      <td>NaN</td>\n",
              "      <td>NaN</td>\n",
              "      <td>NaN</td>\n",
              "      <td>NaN</td>\n",
              "      <td>Starlink</td>\n",
              "      <td>Success\\n</td>\n",
              "      <td>NaN</td>\n",
              "      <td>Success</td>\n",
              "      <td>NaN</td>\n",
              "      <td>NaN</td>\n",
              "    </tr>\n",
              "    <tr>\n",
              "      <th>118</th>\n",
              "      <td>119</td>\n",
              "      <td>NaN</td>\n",
              "      <td>CCSFS</td>\n",
              "      <td>NaN</td>\n",
              "      <td>15,600 kg</td>\n",
              "      <td>LEO</td>\n",
              "      <td>SpaceX</td>\n",
              "      <td>NaN</td>\n",
              "      <td>NaN</td>\n",
              "      <td>NaN</td>\n",
              "      <td>...</td>\n",
              "      <td>NaN</td>\n",
              "      <td>NaN</td>\n",
              "      <td>NaN</td>\n",
              "      <td>NaN</td>\n",
              "      <td>Starlink</td>\n",
              "      <td>Success\\n</td>\n",
              "      <td>NaN</td>\n",
              "      <td>Success</td>\n",
              "      <td>NaN</td>\n",
              "      <td>NaN</td>\n",
              "    </tr>\n",
              "    <tr>\n",
              "      <th>119</th>\n",
              "      <td>120</td>\n",
              "      <td>NaN</td>\n",
              "      <td>KSC</td>\n",
              "      <td>NaN</td>\n",
              "      <td>3,328 kg</td>\n",
              "      <td>LEO</td>\n",
              "      <td>NASA</td>\n",
              "      <td>NaN</td>\n",
              "      <td>NaN</td>\n",
              "      <td>NaN</td>\n",
              "      <td>...</td>\n",
              "      <td>NaN</td>\n",
              "      <td>NaN</td>\n",
              "      <td>NaN</td>\n",
              "      <td>NaN</td>\n",
              "      <td>SpaceX CRS-22</td>\n",
              "      <td>Success\\n</td>\n",
              "      <td>NaN</td>\n",
              "      <td>Success</td>\n",
              "      <td>NaN</td>\n",
              "      <td>NaN</td>\n",
              "    </tr>\n",
              "    <tr>\n",
              "      <th>120</th>\n",
              "      <td>121</td>\n",
              "      <td>NaN</td>\n",
              "      <td>CCSFS</td>\n",
              "      <td>NaN</td>\n",
              "      <td>7,000 kg</td>\n",
              "      <td>GTO</td>\n",
              "      <td>Sirius XM</td>\n",
              "      <td>NaN</td>\n",
              "      <td>NaN</td>\n",
              "      <td>NaN</td>\n",
              "      <td>...</td>\n",
              "      <td>NaN</td>\n",
              "      <td>NaN</td>\n",
              "      <td>NaN</td>\n",
              "      <td>NaN</td>\n",
              "      <td>SXM-8</td>\n",
              "      <td>Success\\n</td>\n",
              "      <td>NaN</td>\n",
              "      <td>Success</td>\n",
              "      <td>NaN</td>\n",
              "      <td>NaN</td>\n",
              "    </tr>\n",
              "  </tbody>\n",
              "</table>\n",
              "<p>121 rows × 22 columns</p>\n",
              "</div>\n",
              "    <div class=\"colab-df-buttons\">\n",
              "\n",
              "  <div class=\"colab-df-container\">\n",
              "    <button class=\"colab-df-convert\" onclick=\"convertToInteractive('df-c4f5c302-675f-4dc8-9841-cfc23e7a4dd1')\"\n",
              "            title=\"Convert this dataframe to an interactive table.\"\n",
              "            style=\"display:none;\">\n",
              "\n",
              "  <svg xmlns=\"http://www.w3.org/2000/svg\" height=\"24px\" viewBox=\"0 -960 960 960\">\n",
              "    <path d=\"M120-120v-720h720v720H120Zm60-500h600v-160H180v160Zm220 220h160v-160H400v160Zm0 220h160v-160H400v160ZM180-400h160v-160H180v160Zm440 0h160v-160H620v160ZM180-180h160v-160H180v160Zm440 0h160v-160H620v160Z\"/>\n",
              "  </svg>\n",
              "    </button>\n",
              "\n",
              "  <style>\n",
              "    .colab-df-container {\n",
              "      display:flex;\n",
              "      gap: 12px;\n",
              "    }\n",
              "\n",
              "    .colab-df-convert {\n",
              "      background-color: #E8F0FE;\n",
              "      border: none;\n",
              "      border-radius: 50%;\n",
              "      cursor: pointer;\n",
              "      display: none;\n",
              "      fill: #1967D2;\n",
              "      height: 32px;\n",
              "      padding: 0 0 0 0;\n",
              "      width: 32px;\n",
              "    }\n",
              "\n",
              "    .colab-df-convert:hover {\n",
              "      background-color: #E2EBFA;\n",
              "      box-shadow: 0px 1px 2px rgba(60, 64, 67, 0.3), 0px 1px 3px 1px rgba(60, 64, 67, 0.15);\n",
              "      fill: #174EA6;\n",
              "    }\n",
              "\n",
              "    .colab-df-buttons div {\n",
              "      margin-bottom: 4px;\n",
              "    }\n",
              "\n",
              "    [theme=dark] .colab-df-convert {\n",
              "      background-color: #3B4455;\n",
              "      fill: #D2E3FC;\n",
              "    }\n",
              "\n",
              "    [theme=dark] .colab-df-convert:hover {\n",
              "      background-color: #434B5C;\n",
              "      box-shadow: 0px 1px 3px 1px rgba(0, 0, 0, 0.15);\n",
              "      filter: drop-shadow(0px 1px 2px rgba(0, 0, 0, 0.3));\n",
              "      fill: #FFFFFF;\n",
              "    }\n",
              "  </style>\n",
              "\n",
              "    <script>\n",
              "      const buttonEl =\n",
              "        document.querySelector('#df-c4f5c302-675f-4dc8-9841-cfc23e7a4dd1 button.colab-df-convert');\n",
              "      buttonEl.style.display =\n",
              "        google.colab.kernel.accessAllowed ? 'block' : 'none';\n",
              "\n",
              "      async function convertToInteractive(key) {\n",
              "        const element = document.querySelector('#df-c4f5c302-675f-4dc8-9841-cfc23e7a4dd1');\n",
              "        const dataTable =\n",
              "          await google.colab.kernel.invokeFunction('convertToInteractive',\n",
              "                                                    [key], {});\n",
              "        if (!dataTable) return;\n",
              "\n",
              "        const docLinkHtml = 'Like what you see? Visit the ' +\n",
              "          '<a target=\"_blank\" href=https://colab.research.google.com/notebooks/data_table.ipynb>data table notebook</a>'\n",
              "          + ' to learn more about interactive tables.';\n",
              "        element.innerHTML = '';\n",
              "        dataTable['output_type'] = 'display_data';\n",
              "        await google.colab.output.renderOutput(dataTable, element);\n",
              "        const docLink = document.createElement('div');\n",
              "        docLink.innerHTML = docLinkHtml;\n",
              "        element.appendChild(docLink);\n",
              "      }\n",
              "    </script>\n",
              "  </div>\n",
              "\n",
              "\n",
              "<div id=\"df-530983ca-3d8f-47f2-a8ea-2bd5e40ebe3d\">\n",
              "  <button class=\"colab-df-quickchart\" onclick=\"quickchart('df-530983ca-3d8f-47f2-a8ea-2bd5e40ebe3d')\"\n",
              "            title=\"Suggest charts\"\n",
              "            style=\"display:none;\">\n",
              "\n",
              "<svg xmlns=\"http://www.w3.org/2000/svg\" height=\"24px\"viewBox=\"0 0 24 24\"\n",
              "     width=\"24px\">\n",
              "    <g>\n",
              "        <path d=\"M19 3H5c-1.1 0-2 .9-2 2v14c0 1.1.9 2 2 2h14c1.1 0 2-.9 2-2V5c0-1.1-.9-2-2-2zM9 17H7v-7h2v7zm4 0h-2V7h2v10zm4 0h-2v-4h2v4z\"/>\n",
              "    </g>\n",
              "</svg>\n",
              "  </button>\n",
              "\n",
              "<style>\n",
              "  .colab-df-quickchart {\n",
              "      --bg-color: #E8F0FE;\n",
              "      --fill-color: #1967D2;\n",
              "      --hover-bg-color: #E2EBFA;\n",
              "      --hover-fill-color: #174EA6;\n",
              "      --disabled-fill-color: #AAA;\n",
              "      --disabled-bg-color: #DDD;\n",
              "  }\n",
              "\n",
              "  [theme=dark] .colab-df-quickchart {\n",
              "      --bg-color: #3B4455;\n",
              "      --fill-color: #D2E3FC;\n",
              "      --hover-bg-color: #434B5C;\n",
              "      --hover-fill-color: #FFFFFF;\n",
              "      --disabled-bg-color: #3B4455;\n",
              "      --disabled-fill-color: #666;\n",
              "  }\n",
              "\n",
              "  .colab-df-quickchart {\n",
              "    background-color: var(--bg-color);\n",
              "    border: none;\n",
              "    border-radius: 50%;\n",
              "    cursor: pointer;\n",
              "    display: none;\n",
              "    fill: var(--fill-color);\n",
              "    height: 32px;\n",
              "    padding: 0;\n",
              "    width: 32px;\n",
              "  }\n",
              "\n",
              "  .colab-df-quickchart:hover {\n",
              "    background-color: var(--hover-bg-color);\n",
              "    box-shadow: 0 1px 2px rgba(60, 64, 67, 0.3), 0 1px 3px 1px rgba(60, 64, 67, 0.15);\n",
              "    fill: var(--button-hover-fill-color);\n",
              "  }\n",
              "\n",
              "  .colab-df-quickchart-complete:disabled,\n",
              "  .colab-df-quickchart-complete:disabled:hover {\n",
              "    background-color: var(--disabled-bg-color);\n",
              "    fill: var(--disabled-fill-color);\n",
              "    box-shadow: none;\n",
              "  }\n",
              "\n",
              "  .colab-df-spinner {\n",
              "    border: 2px solid var(--fill-color);\n",
              "    border-color: transparent;\n",
              "    border-bottom-color: var(--fill-color);\n",
              "    animation:\n",
              "      spin 1s steps(1) infinite;\n",
              "  }\n",
              "\n",
              "  @keyframes spin {\n",
              "    0% {\n",
              "      border-color: transparent;\n",
              "      border-bottom-color: var(--fill-color);\n",
              "      border-left-color: var(--fill-color);\n",
              "    }\n",
              "    20% {\n",
              "      border-color: transparent;\n",
              "      border-left-color: var(--fill-color);\n",
              "      border-top-color: var(--fill-color);\n",
              "    }\n",
              "    30% {\n",
              "      border-color: transparent;\n",
              "      border-left-color: var(--fill-color);\n",
              "      border-top-color: var(--fill-color);\n",
              "      border-right-color: var(--fill-color);\n",
              "    }\n",
              "    40% {\n",
              "      border-color: transparent;\n",
              "      border-right-color: var(--fill-color);\n",
              "      border-top-color: var(--fill-color);\n",
              "    }\n",
              "    60% {\n",
              "      border-color: transparent;\n",
              "      border-right-color: var(--fill-color);\n",
              "    }\n",
              "    80% {\n",
              "      border-color: transparent;\n",
              "      border-right-color: var(--fill-color);\n",
              "      border-bottom-color: var(--fill-color);\n",
              "    }\n",
              "    90% {\n",
              "      border-color: transparent;\n",
              "      border-bottom-color: var(--fill-color);\n",
              "    }\n",
              "  }\n",
              "</style>\n",
              "\n",
              "  <script>\n",
              "    async function quickchart(key) {\n",
              "      const quickchartButtonEl =\n",
              "        document.querySelector('#' + key + ' button');\n",
              "      quickchartButtonEl.disabled = true;  // To prevent multiple clicks.\n",
              "      quickchartButtonEl.classList.add('colab-df-spinner');\n",
              "      try {\n",
              "        const charts = await google.colab.kernel.invokeFunction(\n",
              "            'suggestCharts', [key], {});\n",
              "      } catch (error) {\n",
              "        console.error('Error during call to suggestCharts:', error);\n",
              "      }\n",
              "      quickchartButtonEl.classList.remove('colab-df-spinner');\n",
              "      quickchartButtonEl.classList.add('colab-df-quickchart-complete');\n",
              "    }\n",
              "    (() => {\n",
              "      let quickchartButtonEl =\n",
              "        document.querySelector('#df-530983ca-3d8f-47f2-a8ea-2bd5e40ebe3d button');\n",
              "      quickchartButtonEl.style.display =\n",
              "        google.colab.kernel.accessAllowed ? 'block' : 'none';\n",
              "    })();\n",
              "  </script>\n",
              "</div>\n",
              "    </div>\n",
              "  </div>\n"
            ]
          },
          "metadata": {},
          "execution_count": 72
        }
      ]
    },
    {
      "cell_type": "markdown",
      "metadata": {
        "id": "hvCplGdlVR-5"
      },
      "source": [
        "We can now export it to a <b>CSV</b> for the next section, but to make the answers consistent and in case you have difficulties finishing this lab.\n",
        "\n",
        "Following labs will be using a provided dataset to make each lab independent.\n"
      ]
    },
    {
      "cell_type": "code",
      "execution_count": 73,
      "metadata": {
        "tags": [],
        "id": "GitZbIwJVR-5"
      },
      "outputs": [],
      "source": [
        "df.to_csv('spacex_web_scraped.csv', index=False)"
      ]
    },
    {
      "cell_type": "markdown",
      "metadata": {
        "id": "PRoP7dx4VR-6"
      },
      "source": [
        "<code>df.to_csv('spacex_web_scraped.csv', index=False)</code>\n"
      ]
    },
    {
      "cell_type": "markdown",
      "metadata": {
        "id": "L0lF07vzVR-6"
      },
      "source": [
        "## Authors\n"
      ]
    },
    {
      "cell_type": "markdown",
      "metadata": {
        "id": "uoeVE-XaVR-6"
      },
      "source": [
        "<a href=\"https://www.linkedin.com/in/yan-luo-96288783/\">Yan Luo</a>\n"
      ]
    },
    {
      "cell_type": "markdown",
      "metadata": {
        "id": "ABpZl-dKVR-6"
      },
      "source": [
        "<a href=\"https://www.linkedin.com/in/nayefaboutayoun/\">Nayef Abou Tayoun</a>\n"
      ]
    },
    {
      "cell_type": "markdown",
      "metadata": {
        "id": "g6u1d9x0VR-6"
      },
      "source": [
        "## Change Log\n"
      ]
    },
    {
      "cell_type": "markdown",
      "metadata": {
        "id": "sSoT1-qyVR-7"
      },
      "source": [
        "| Date (YYYY-MM-DD) | Version | Changed By | Change Description      |\n",
        "| ----------------- | ------- | ---------- | ----------------------- |\n",
        "| 2021-06-09        | 1.0     | Yan Luo    | Tasks updates           |\n",
        "| 2020-11-10        | 1.0     | Nayef      | Created the initial version |\n"
      ]
    },
    {
      "cell_type": "markdown",
      "metadata": {
        "id": "oluR1Ob1VR-7"
      },
      "source": [
        "Copyright © 2021 IBM Corporation. All rights reserved.\n"
      ]
    }
  ],
  "metadata": {
    "kernelspec": {
      "display_name": "Python",
      "language": "python",
      "name": "conda-env-python-py"
    },
    "language_info": {
      "codemirror_mode": {
        "name": "ipython",
        "version": 3
      },
      "file_extension": ".py",
      "mimetype": "text/x-python",
      "name": "python",
      "nbconvert_exporter": "python",
      "pygments_lexer": "ipython3",
      "version": "3.7.12"
    },
    "colab": {
      "provenance": []
    }
  },
  "nbformat": 4,
  "nbformat_minor": 0
}